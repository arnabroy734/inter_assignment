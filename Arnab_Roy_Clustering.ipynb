{
 "cells": [
  {
   "cell_type": "code",
   "execution_count": 212,
   "id": "ef47be3f-5b7d-4543-bf9c-aa25277f5880",
   "metadata": {},
   "outputs": [],
   "source": [
    "import numpy as np\n",
    "import pandas as pd\n",
    "import matplotlib.pyplot as plt\n",
    "from sklearn.preprocessing import StandardScaler\n",
    "from sklearn.cluster import KMeans\n",
    "from sklearn.metrics import davies_bouldin_score, silhouette_score\n",
    "from sklearn.cluster import DBSCAN\n",
    "from sklearn.decomposition import PCA\n",
    "from sklearn.manifold import TSNE"
   ]
  },
  {
   "cell_type": "markdown",
   "id": "00c8b56e-0af5-4968-94f9-025cdb5a2997",
   "metadata": {},
   "source": [
    "## Data Loading"
   ]
  },
  {
   "cell_type": "code",
   "execution_count": 31,
   "id": "233b4e29-0587-485c-8a81-3ae55069fc44",
   "metadata": {},
   "outputs": [],
   "source": [
    "customers = pd.read_csv('data/Customers.csv')\n",
    "products = pd.read_csv('data/Products.csv')\n",
    "transactions = pd.read_csv('data/Transactions.csv')"
   ]
  },
  {
   "cell_type": "code",
   "execution_count": 33,
   "id": "933756ea-a8b4-4e92-bf32-b892943f6b9f",
   "metadata": {},
   "outputs": [],
   "source": [
    "merged_data = pd.merge(transactions, customers, 'left', on='CustomerID')\n",
    "merged_data = pd.merge(merged_data, products, 'left', on='ProductID')\n",
    "merged_data['Price'] = merged_data['Price_x']\n",
    "merged_data.drop(columns=['Price_x', 'Price_y'], inplace=True)"
   ]
  },
  {
   "cell_type": "markdown",
   "id": "7ce879a3-0bad-4145-a60c-e2f285803fae",
   "metadata": {},
   "source": [
    "## Prepare Features"
   ]
  },
  {
   "cell_type": "code",
   "execution_count": 36,
   "id": "b1dfca90-8d41-43f8-b07d-66e3ad604e30",
   "metadata": {},
   "outputs": [
    {
     "data": {
      "text/html": [
       "<div>\n",
       "<style scoped>\n",
       "    .dataframe tbody tr th:only-of-type {\n",
       "        vertical-align: middle;\n",
       "    }\n",
       "\n",
       "    .dataframe tbody tr th {\n",
       "        vertical-align: top;\n",
       "    }\n",
       "\n",
       "    .dataframe thead th {\n",
       "        text-align: right;\n",
       "    }\n",
       "</style>\n",
       "<table border=\"1\" class=\"dataframe\">\n",
       "  <thead>\n",
       "    <tr style=\"text-align: right;\">\n",
       "      <th></th>\n",
       "      <th>CustomerID</th>\n",
       "      <th>CustomerName</th>\n",
       "      <th>Region</th>\n",
       "      <th>SignupDate</th>\n",
       "      <th>Books_TotalValue</th>\n",
       "      <th>Electronics_TotalValue</th>\n",
       "      <th>Home Decor_TotalValue</th>\n",
       "      <th>Clothing_TotalValue</th>\n",
       "    </tr>\n",
       "  </thead>\n",
       "  <tbody>\n",
       "    <tr>\n",
       "      <th>0</th>\n",
       "      <td>C0001</td>\n",
       "      <td>Lawrence Carroll</td>\n",
       "      <td>South America</td>\n",
       "      <td>2022-07-10</td>\n",
       "      <td>114.60</td>\n",
       "      <td>2827.30</td>\n",
       "      <td>412.62</td>\n",
       "      <td>0.00</td>\n",
       "    </tr>\n",
       "    <tr>\n",
       "      <th>1</th>\n",
       "      <td>C0002</td>\n",
       "      <td>Elizabeth Lutz</td>\n",
       "      <td>Asia</td>\n",
       "      <td>2022-02-13</td>\n",
       "      <td>0.00</td>\n",
       "      <td>0.00</td>\n",
       "      <td>837.28</td>\n",
       "      <td>1025.46</td>\n",
       "    </tr>\n",
       "    <tr>\n",
       "      <th>2</th>\n",
       "      <td>C0003</td>\n",
       "      <td>Michael Rivera</td>\n",
       "      <td>South America</td>\n",
       "      <td>2024-03-07</td>\n",
       "      <td>0.00</td>\n",
       "      <td>1385.20</td>\n",
       "      <td>1217.82</td>\n",
       "      <td>122.36</td>\n",
       "    </tr>\n",
       "    <tr>\n",
       "      <th>3</th>\n",
       "      <td>C0004</td>\n",
       "      <td>Kathleen Rodriguez</td>\n",
       "      <td>South America</td>\n",
       "      <td>2022-10-09</td>\n",
       "      <td>1888.48</td>\n",
       "      <td>1355.74</td>\n",
       "      <td>2110.66</td>\n",
       "      <td>0.00</td>\n",
       "    </tr>\n",
       "  </tbody>\n",
       "</table>\n",
       "</div>"
      ],
      "text/plain": [
       "  CustomerID        CustomerName         Region  SignupDate  Books_TotalValue  \\\n",
       "0      C0001    Lawrence Carroll  South America  2022-07-10            114.60   \n",
       "1      C0002      Elizabeth Lutz           Asia  2022-02-13              0.00   \n",
       "2      C0003      Michael Rivera  South America  2024-03-07              0.00   \n",
       "3      C0004  Kathleen Rodriguez  South America  2022-10-09           1888.48   \n",
       "\n",
       "   Electronics_TotalValue  Home Decor_TotalValue  Clothing_TotalValue  \n",
       "0                 2827.30                 412.62                 0.00  \n",
       "1                    0.00                 837.28              1025.46  \n",
       "2                 1385.20                1217.82               122.36  \n",
       "3                 1355.74                2110.66                 0.00  "
      ]
     },
     "execution_count": 36,
     "metadata": {},
     "output_type": "execute_result"
    }
   ],
   "source": [
    "customer_new = customers.copy()\n",
    "for cat in products.Category.unique():\n",
    "    df = merged_data[merged_data.Category==cat].groupby(['CustomerID'])['TotalValue'].sum().reset_index()\n",
    "    df = df.rename(columns={'TotalValue': f'{cat}_TotalValue'})\n",
    "    customer_new = pd.merge(customer_new, df, 'left', on='CustomerID', )\n",
    "customer_new = customer_new.fillna(0)\n",
    "customer_new.head(4)"
   ]
  },
  {
   "cell_type": "code",
   "execution_count": 38,
   "id": "48ecb9bf-985d-41e8-980d-e58217de0ab8",
   "metadata": {},
   "outputs": [
    {
     "data": {
      "text/html": [
       "<div>\n",
       "<style scoped>\n",
       "    .dataframe tbody tr th:only-of-type {\n",
       "        vertical-align: middle;\n",
       "    }\n",
       "\n",
       "    .dataframe tbody tr th {\n",
       "        vertical-align: top;\n",
       "    }\n",
       "\n",
       "    .dataframe thead th {\n",
       "        text-align: right;\n",
       "    }\n",
       "</style>\n",
       "<table border=\"1\" class=\"dataframe\">\n",
       "  <thead>\n",
       "    <tr style=\"text-align: right;\">\n",
       "      <th></th>\n",
       "      <th>CustomerID</th>\n",
       "      <th>CustomerName</th>\n",
       "      <th>Region</th>\n",
       "      <th>SignupDate</th>\n",
       "      <th>Books_TotalValue</th>\n",
       "      <th>Electronics_TotalValue</th>\n",
       "      <th>Home Decor_TotalValue</th>\n",
       "      <th>Clothing_TotalValue</th>\n",
       "      <th>Books_Quantity</th>\n",
       "      <th>Electronics_Quantity</th>\n",
       "      <th>Home Decor_Quantity</th>\n",
       "      <th>Clothing_Quantity</th>\n",
       "    </tr>\n",
       "  </thead>\n",
       "  <tbody>\n",
       "    <tr>\n",
       "      <th>0</th>\n",
       "      <td>C0001</td>\n",
       "      <td>Lawrence Carroll</td>\n",
       "      <td>South America</td>\n",
       "      <td>2022-07-10</td>\n",
       "      <td>114.60</td>\n",
       "      <td>2827.30</td>\n",
       "      <td>412.62</td>\n",
       "      <td>0.00</td>\n",
       "      <td>2.0</td>\n",
       "      <td>7.0</td>\n",
       "      <td>3.0</td>\n",
       "      <td>0.0</td>\n",
       "    </tr>\n",
       "    <tr>\n",
       "      <th>1</th>\n",
       "      <td>C0002</td>\n",
       "      <td>Elizabeth Lutz</td>\n",
       "      <td>Asia</td>\n",
       "      <td>2022-02-13</td>\n",
       "      <td>0.00</td>\n",
       "      <td>0.00</td>\n",
       "      <td>837.28</td>\n",
       "      <td>1025.46</td>\n",
       "      <td>0.0</td>\n",
       "      <td>0.0</td>\n",
       "      <td>6.0</td>\n",
       "      <td>4.0</td>\n",
       "    </tr>\n",
       "    <tr>\n",
       "      <th>2</th>\n",
       "      <td>C0003</td>\n",
       "      <td>Michael Rivera</td>\n",
       "      <td>South America</td>\n",
       "      <td>2024-03-07</td>\n",
       "      <td>0.00</td>\n",
       "      <td>1385.20</td>\n",
       "      <td>1217.82</td>\n",
       "      <td>122.36</td>\n",
       "      <td>0.0</td>\n",
       "      <td>4.0</td>\n",
       "      <td>6.0</td>\n",
       "      <td>4.0</td>\n",
       "    </tr>\n",
       "    <tr>\n",
       "      <th>3</th>\n",
       "      <td>C0004</td>\n",
       "      <td>Kathleen Rodriguez</td>\n",
       "      <td>South America</td>\n",
       "      <td>2022-10-09</td>\n",
       "      <td>1888.48</td>\n",
       "      <td>1355.74</td>\n",
       "      <td>2110.66</td>\n",
       "      <td>0.00</td>\n",
       "      <td>8.0</td>\n",
       "      <td>6.0</td>\n",
       "      <td>9.0</td>\n",
       "      <td>0.0</td>\n",
       "    </tr>\n",
       "  </tbody>\n",
       "</table>\n",
       "</div>"
      ],
      "text/plain": [
       "  CustomerID        CustomerName         Region  SignupDate  Books_TotalValue  \\\n",
       "0      C0001    Lawrence Carroll  South America  2022-07-10            114.60   \n",
       "1      C0002      Elizabeth Lutz           Asia  2022-02-13              0.00   \n",
       "2      C0003      Michael Rivera  South America  2024-03-07              0.00   \n",
       "3      C0004  Kathleen Rodriguez  South America  2022-10-09           1888.48   \n",
       "\n",
       "   Electronics_TotalValue  Home Decor_TotalValue  Clothing_TotalValue  \\\n",
       "0                 2827.30                 412.62                 0.00   \n",
       "1                    0.00                 837.28              1025.46   \n",
       "2                 1385.20                1217.82               122.36   \n",
       "3                 1355.74                2110.66                 0.00   \n",
       "\n",
       "   Books_Quantity  Electronics_Quantity  Home Decor_Quantity  \\\n",
       "0             2.0                   7.0                  3.0   \n",
       "1             0.0                   0.0                  6.0   \n",
       "2             0.0                   4.0                  6.0   \n",
       "3             8.0                   6.0                  9.0   \n",
       "\n",
       "   Clothing_Quantity  \n",
       "0                0.0  \n",
       "1                4.0  \n",
       "2                4.0  \n",
       "3                0.0  "
      ]
     },
     "execution_count": 38,
     "metadata": {},
     "output_type": "execute_result"
    }
   ],
   "source": [
    "for cat in products.Category.unique():\n",
    "    df = merged_data[merged_data.Category==cat].groupby(['CustomerID'])['Quantity'].sum().reset_index()\n",
    "    df = df.rename(columns={'Quantity': f'{cat}_Quantity'})\n",
    "    customer_new = pd.merge(customer_new, df, 'left', on='CustomerID')\n",
    "customer_new = customer_new.fillna(0)\n",
    "customer_new.head(4)"
   ]
  },
  {
   "cell_type": "code",
   "execution_count": 40,
   "id": "cbd793cf-9f8e-4944-89bf-54688c9d7ede",
   "metadata": {},
   "outputs": [
    {
     "data": {
      "text/html": [
       "<div>\n",
       "<style scoped>\n",
       "    .dataframe tbody tr th:only-of-type {\n",
       "        vertical-align: middle;\n",
       "    }\n",
       "\n",
       "    .dataframe tbody tr th {\n",
       "        vertical-align: top;\n",
       "    }\n",
       "\n",
       "    .dataframe thead th {\n",
       "        text-align: right;\n",
       "    }\n",
       "</style>\n",
       "<table border=\"1\" class=\"dataframe\">\n",
       "  <thead>\n",
       "    <tr style=\"text-align: right;\">\n",
       "      <th></th>\n",
       "      <th>CustomerID</th>\n",
       "      <th>CustomerName</th>\n",
       "      <th>SignupDate</th>\n",
       "      <th>Books_TotalValue</th>\n",
       "      <th>Electronics_TotalValue</th>\n",
       "      <th>Home Decor_TotalValue</th>\n",
       "      <th>Clothing_TotalValue</th>\n",
       "      <th>Books_Quantity</th>\n",
       "      <th>Electronics_Quantity</th>\n",
       "      <th>Home Decor_Quantity</th>\n",
       "      <th>Clothing_Quantity</th>\n",
       "      <th>Region_Asia</th>\n",
       "      <th>Region_Europe</th>\n",
       "      <th>Region_North America</th>\n",
       "      <th>Region_South America</th>\n",
       "    </tr>\n",
       "  </thead>\n",
       "  <tbody>\n",
       "    <tr>\n",
       "      <th>0</th>\n",
       "      <td>C0001</td>\n",
       "      <td>Lawrence Carroll</td>\n",
       "      <td>2022-07-10</td>\n",
       "      <td>114.60</td>\n",
       "      <td>2827.30</td>\n",
       "      <td>412.62</td>\n",
       "      <td>0.00</td>\n",
       "      <td>2.0</td>\n",
       "      <td>7.0</td>\n",
       "      <td>3.0</td>\n",
       "      <td>0.0</td>\n",
       "      <td>0</td>\n",
       "      <td>0</td>\n",
       "      <td>0</td>\n",
       "      <td>1</td>\n",
       "    </tr>\n",
       "    <tr>\n",
       "      <th>1</th>\n",
       "      <td>C0002</td>\n",
       "      <td>Elizabeth Lutz</td>\n",
       "      <td>2022-02-13</td>\n",
       "      <td>0.00</td>\n",
       "      <td>0.00</td>\n",
       "      <td>837.28</td>\n",
       "      <td>1025.46</td>\n",
       "      <td>0.0</td>\n",
       "      <td>0.0</td>\n",
       "      <td>6.0</td>\n",
       "      <td>4.0</td>\n",
       "      <td>1</td>\n",
       "      <td>0</td>\n",
       "      <td>0</td>\n",
       "      <td>0</td>\n",
       "    </tr>\n",
       "    <tr>\n",
       "      <th>2</th>\n",
       "      <td>C0003</td>\n",
       "      <td>Michael Rivera</td>\n",
       "      <td>2024-03-07</td>\n",
       "      <td>0.00</td>\n",
       "      <td>1385.20</td>\n",
       "      <td>1217.82</td>\n",
       "      <td>122.36</td>\n",
       "      <td>0.0</td>\n",
       "      <td>4.0</td>\n",
       "      <td>6.0</td>\n",
       "      <td>4.0</td>\n",
       "      <td>0</td>\n",
       "      <td>0</td>\n",
       "      <td>0</td>\n",
       "      <td>1</td>\n",
       "    </tr>\n",
       "    <tr>\n",
       "      <th>3</th>\n",
       "      <td>C0004</td>\n",
       "      <td>Kathleen Rodriguez</td>\n",
       "      <td>2022-10-09</td>\n",
       "      <td>1888.48</td>\n",
       "      <td>1355.74</td>\n",
       "      <td>2110.66</td>\n",
       "      <td>0.00</td>\n",
       "      <td>8.0</td>\n",
       "      <td>6.0</td>\n",
       "      <td>9.0</td>\n",
       "      <td>0.0</td>\n",
       "      <td>0</td>\n",
       "      <td>0</td>\n",
       "      <td>0</td>\n",
       "      <td>1</td>\n",
       "    </tr>\n",
       "  </tbody>\n",
       "</table>\n",
       "</div>"
      ],
      "text/plain": [
       "  CustomerID        CustomerName  SignupDate  Books_TotalValue  \\\n",
       "0      C0001    Lawrence Carroll  2022-07-10            114.60   \n",
       "1      C0002      Elizabeth Lutz  2022-02-13              0.00   \n",
       "2      C0003      Michael Rivera  2024-03-07              0.00   \n",
       "3      C0004  Kathleen Rodriguez  2022-10-09           1888.48   \n",
       "\n",
       "   Electronics_TotalValue  Home Decor_TotalValue  Clothing_TotalValue  \\\n",
       "0                 2827.30                 412.62                 0.00   \n",
       "1                    0.00                 837.28              1025.46   \n",
       "2                 1385.20                1217.82               122.36   \n",
       "3                 1355.74                2110.66                 0.00   \n",
       "\n",
       "   Books_Quantity  Electronics_Quantity  Home Decor_Quantity  \\\n",
       "0             2.0                   7.0                  3.0   \n",
       "1             0.0                   0.0                  6.0   \n",
       "2             0.0                   4.0                  6.0   \n",
       "3             8.0                   6.0                  9.0   \n",
       "\n",
       "   Clothing_Quantity  Region_Asia  Region_Europe  Region_North America  \\\n",
       "0                0.0            0              0                     0   \n",
       "1                4.0            1              0                     0   \n",
       "2                4.0            0              0                     0   \n",
       "3                0.0            0              0                     0   \n",
       "\n",
       "   Region_South America  \n",
       "0                     1  \n",
       "1                     0  \n",
       "2                     1  \n",
       "3                     1  "
      ]
     },
     "execution_count": 40,
     "metadata": {},
     "output_type": "execute_result"
    }
   ],
   "source": [
    "# One Hot Encoding\n",
    "customer_new = pd.get_dummies(customer_new, columns=['Region'], dtype='int')\n",
    "customer_new.head(4)"
   ]
  },
  {
   "cell_type": "code",
   "execution_count": 42,
   "id": "868b1e43-acd6-4e17-a62d-b130b20470ef",
   "metadata": {},
   "outputs": [
    {
     "data": {
      "text/plain": [
       "Index(['CustomerID', 'Books_TotalValue', 'Electronics_TotalValue',\n",
       "       'Home Decor_TotalValue', 'Clothing_TotalValue', 'Books_Quantity',\n",
       "       'Electronics_Quantity', 'Home Decor_Quantity', 'Clothing_Quantity',\n",
       "       'Region_Asia', 'Region_Europe', 'Region_North America',\n",
       "       'Region_South America'],\n",
       "      dtype='object')"
      ]
     },
     "execution_count": 42,
     "metadata": {},
     "output_type": "execute_result"
    }
   ],
   "source": [
    "customer_new.drop(columns=['CustomerName', 'SignupDate'], inplace=True)\n",
    "customer_new.columns"
   ]
  },
  {
   "cell_type": "code",
   "execution_count": 44,
   "id": "796fe389-40a0-40c0-9ee7-f83e34a5b663",
   "metadata": {},
   "outputs": [
    {
     "name": "stdout",
     "output_type": "stream",
     "text": [
      "Feature matrix has shape - (200, 12)\n"
     ]
    }
   ],
   "source": [
    "customer_ids = customer_new['CustomerID'].values\n",
    "customer_features = customer_new.drop(columns=['CustomerID'], inplace=False).values\n",
    "print(f\"Feature matrix has shape - {customer_features.shape}\")"
   ]
  },
  {
   "cell_type": "code",
   "execution_count": 46,
   "id": "8ec73c63-32b5-48ce-903e-1a3e4a568587",
   "metadata": {},
   "outputs": [],
   "source": [
    "# standardisation\n",
    "customer_features = StandardScaler().fit_transform(customer_features)"
   ]
  },
  {
   "cell_type": "markdown",
   "id": "3f93f675-d1ec-4181-8b92-18a3abc2b191",
   "metadata": {},
   "source": [
    "## K Means Clustering and Visualisation"
   ]
  },
  {
   "cell_type": "code",
   "execution_count": 203,
   "id": "77033166-4a7f-4eeb-afbd-d3ca624df4f3",
   "metadata": {},
   "outputs": [
    {
     "data": {
      "image/png": "[encoded data removed]",
      "text/plain": [
       "<Figure size 640x480 with 1 Axes>"
      ]
     },
     "metadata": {},
     "output_type": "display_data"
    }
   ],
   "source": [
    "# Decide number of clusters\n",
    "wcss = []\n",
    "for k in range(2,11):\n",
    "    model = KMeans(n_clusters=k, random_state=1)\n",
    "    model.fit_predict(customer_features)\n",
    "    wcss.append(model.inertia_)\n",
    "plt.plot(range(2,11), wcss)\n",
    "plt.xlabel('Clusters')\n",
    "plt.ylabel('WCSS')\n",
    "plt.grid()"
   ]
  },
  {
   "cell_type": "code",
   "execution_count": 205,
   "id": "61cc420b-240a-47a0-b909-99c662343375",
   "metadata": {},
   "outputs": [
    {
     "name": "stdout",
     "output_type": "stream",
     "text": [
      "DB index for 5 clusters is 1.5534880873400687\n",
      "WCSS is - 1436.119006457665\n"
     ]
    }
   ],
   "source": [
    "K = 5\n",
    "model = KMeans(n_clusters=K, random_state=1)\n",
    "clusters = model.fit_predict(customer_features)\n",
    "db_index = davies_bouldin_score(customer_features, clusters)\n",
    "print(f\"DB index for {K} clusters is {db_index}\")\n",
    "print(f\"WCSS is - {model.inertia_}\")"
   ]
  },
  {
   "cell_type": "code",
   "execution_count": 207,
   "id": "4ceb2918-e000-4c1b-b2c9-ca6f21a76eb6",
   "metadata": {},
   "outputs": [],
   "source": [
    "tsne = TSNE(n_components=2)\n",
    "X_low = tsne.fit_transform(customer_features)"
   ]
  },
  {
   "cell_type": "code",
   "execution_count": 208,
   "id": "98194cf2-fe90-44c3-849e-ebcb9d61e236",
   "metadata": {},
   "outputs": [
    {
     "data": {
      "text/plain": [
       "Text(0.5, 1.0, 'Low Dimensional Scater Plot for 5 clusters')"
      ]
     },
     "execution_count": 208,
     "metadata": {},
     "output_type": "execute_result"
    },
    {
     "data": {
      "image/png": "[encoded data removed]",
      "text/plain": [
       "<Figure size 640x480 with 1 Axes>"
      ]
     },
     "metadata": {},
     "output_type": "display_data"
    }
   ],
   "source": [
    "plt.scatter(X_low[:,0], X_low[:,1], c=clusters)\n",
    "plt.title(f\"Low Dimensional Scater Plot for {K} clusters\")"
   ]
  },
  {
   "cell_type": "code",
   "execution_count": null,
   "id": "ac6cc946-1ae3-4228-b2fd-2d7db443185e",
   "metadata": {},
   "outputs": [],
   "source": []
  },
  {
   "cell_type": "code",
   "execution_count": null,
   "id": "9a515af0-9dce-4d27-97fa-acf5820d5508",
   "metadata": {},
   "outputs": [],
   "source": []
  }
 ],
 "metadata": {
  "kernelspec": {
   "display_name": "Python [conda env:base] *",
   "language": "python",
   "name": "conda-base-py"
  },
  "language_info": {
   "codemirror_mode": {
    "name": "ipython",
    "version": 3
   },
   "file_extension": ".py",
   "mimetype": "text/x-python",
   "name": "python",
   "nbconvert_exporter": "python",
   "pygments_lexer": "ipython3",
   "version": "3.12.7"
  }
 },
 "nbformat": 4,
 "nbformat_minor": 5
}
