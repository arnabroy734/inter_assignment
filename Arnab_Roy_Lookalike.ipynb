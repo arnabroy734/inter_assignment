{
 "cells": [
  {
   "cell_type": "code",
   "execution_count": 69,
   "id": "e9fff828-8bd2-4b80-aabe-37e5f6b12c71",
   "metadata": {},
   "outputs": [],
   "source": [
    "import numpy as np\n",
    "import pandas as pd\n",
    "import matplotlib.pyplot as plt\n",
    "from sklearn.preprocessing import StandardScaler"
   ]
  },
  {
   "cell_type": "markdown",
   "id": "cef32938-1d3b-47ba-bb1e-f03a9856e49e",
   "metadata": {},
   "source": [
    "## Data Loading"
   ]
  },
  {
   "cell_type": "code",
   "execution_count": 5,
   "id": "52ef3ee6-2fde-442b-9795-7bfee5b42397",
   "metadata": {},
   "outputs": [],
   "source": [
    "customers = pd.read_csv('data/Customers.csv')\n",
    "products = pd.read_csv('data/Products.csv')\n",
    "transactions = pd.read_csv('data/Transactions.csv')"
   ]
  },
  {
   "cell_type": "code",
   "execution_count": 7,
   "id": "c081fc88-a08f-402a-9467-d3f1eed45bb9",
   "metadata": {},
   "outputs": [
    {
     "data": {
      "text/plain": [
       "Index(['TransactionID', 'CustomerID', 'ProductID', 'TransactionDate',\n",
       "       'Quantity', 'TotalValue', 'CustomerName', 'Region', 'SignupDate',\n",
       "       'ProductName', 'Category', 'Price'],\n",
       "      dtype='object')"
      ]
     },
     "execution_count": 7,
     "metadata": {},
     "output_type": "execute_result"
    }
   ],
   "source": [
    "merged_data = pd.merge(transactions, customers, 'left', on='CustomerID')\n",
    "merged_data = pd.merge(merged_data, products, 'left', on='ProductID')\n",
    "merged_data['Price'] = merged_data['Price_x']\n",
    "merged_data.drop(columns=['Price_x', 'Price_y'], inplace=True)\n",
    "merged_data.columns"
   ]
  },
  {
   "cell_type": "markdown",
   "id": "0264815b-ecc7-48ab-99ea-295bb8487125",
   "metadata": {},
   "source": [
    "## Feature Engineering:\n",
    "* ### Existing features - Region\n",
    "* ### Category wise total spent\n",
    "* ### Categorywise Quantity\n"
   ]
  },
  {
   "cell_type": "code",
   "execution_count": 34,
   "id": "e1471e5a-7520-4bdc-a333-5408c9a69fa2",
   "metadata": {},
   "outputs": [
    {
     "data": {
      "text/html": [
       "<div>\n",
       "<style scoped>\n",
       "    .dataframe tbody tr th:only-of-type {\n",
       "        vertical-align: middle;\n",
       "    }\n",
       "\n",
       "    .dataframe tbody tr th {\n",
       "        vertical-align: top;\n",
       "    }\n",
       "\n",
       "    .dataframe thead th {\n",
       "        text-align: right;\n",
       "    }\n",
       "</style>\n",
       "<table border=\"1\" class=\"dataframe\">\n",
       "  <thead>\n",
       "    <tr style=\"text-align: right;\">\n",
       "      <th></th>\n",
       "      <th>CustomerID</th>\n",
       "      <th>CustomerName</th>\n",
       "      <th>Region</th>\n",
       "      <th>SignupDate</th>\n",
       "      <th>Books_TotalValue</th>\n",
       "      <th>Electronics_TotalValue</th>\n",
       "      <th>Home Decor_TotalValue</th>\n",
       "      <th>Clothing_TotalValue</th>\n",
       "    </tr>\n",
       "  </thead>\n",
       "  <tbody>\n",
       "    <tr>\n",
       "      <th>0</th>\n",
       "      <td>C0001</td>\n",
       "      <td>Lawrence Carroll</td>\n",
       "      <td>South America</td>\n",
       "      <td>2022-07-10</td>\n",
       "      <td>114.60</td>\n",
       "      <td>2827.30</td>\n",
       "      <td>412.62</td>\n",
       "      <td>0.00</td>\n",
       "    </tr>\n",
       "    <tr>\n",
       "      <th>1</th>\n",
       "      <td>C0002</td>\n",
       "      <td>Elizabeth Lutz</td>\n",
       "      <td>Asia</td>\n",
       "      <td>2022-02-13</td>\n",
       "      <td>0.00</td>\n",
       "      <td>0.00</td>\n",
       "      <td>837.28</td>\n",
       "      <td>1025.46</td>\n",
       "    </tr>\n",
       "    <tr>\n",
       "      <th>2</th>\n",
       "      <td>C0003</td>\n",
       "      <td>Michael Rivera</td>\n",
       "      <td>South America</td>\n",
       "      <td>2024-03-07</td>\n",
       "      <td>0.00</td>\n",
       "      <td>1385.20</td>\n",
       "      <td>1217.82</td>\n",
       "      <td>122.36</td>\n",
       "    </tr>\n",
       "    <tr>\n",
       "      <th>3</th>\n",
       "      <td>C0004</td>\n",
       "      <td>Kathleen Rodriguez</td>\n",
       "      <td>South America</td>\n",
       "      <td>2022-10-09</td>\n",
       "      <td>1888.48</td>\n",
       "      <td>1355.74</td>\n",
       "      <td>2110.66</td>\n",
       "      <td>0.00</td>\n",
       "    </tr>\n",
       "  </tbody>\n",
       "</table>\n",
       "</div>"
      ],
      "text/plain": [
       "  CustomerID        CustomerName         Region  SignupDate  Books_TotalValue  \\\n",
       "0      C0001    Lawrence Carroll  South America  2022-07-10            114.60   \n",
       "1      C0002      Elizabeth Lutz           Asia  2022-02-13              0.00   \n",
       "2      C0003      Michael Rivera  South America  2024-03-07              0.00   \n",
       "3      C0004  Kathleen Rodriguez  South America  2022-10-09           1888.48   \n",
       "\n",
       "   Electronics_TotalValue  Home Decor_TotalValue  Clothing_TotalValue  \n",
       "0                 2827.30                 412.62                 0.00  \n",
       "1                    0.00                 837.28              1025.46  \n",
       "2                 1385.20                1217.82               122.36  \n",
       "3                 1355.74                2110.66                 0.00  "
      ]
     },
     "execution_count": 34,
     "metadata": {},
     "output_type": "execute_result"
    }
   ],
   "source": [
    "customer_new = customers.copy()\n",
    "for cat in products.Category.unique():\n",
    "    df = merged_data[merged_data.Category==cat].groupby(['CustomerID'])['TotalValue'].sum().reset_index()\n",
    "    df = df.rename(columns={'TotalValue': f'{cat}_TotalValue'})\n",
    "    customer_new = pd.merge(customer_new, df, 'left', on='CustomerID', )\n",
    "customer_new = customer_new.fillna(0)\n",
    "customer_new.head(4)"
   ]
  },
  {
   "cell_type": "code",
   "execution_count": 40,
   "id": "5d99b009-5a2a-4343-bced-b34a670d3538",
   "metadata": {},
   "outputs": [
    {
     "data": {
      "text/html": [
       "<div>\n",
       "<style scoped>\n",
       "    .dataframe tbody tr th:only-of-type {\n",
       "        vertical-align: middle;\n",
       "    }\n",
       "\n",
       "    .dataframe tbody tr th {\n",
       "        vertical-align: top;\n",
       "    }\n",
       "\n",
       "    .dataframe thead th {\n",
       "        text-align: right;\n",
       "    }\n",
       "</style>\n",
       "<table border=\"1\" class=\"dataframe\">\n",
       "  <thead>\n",
       "    <tr style=\"text-align: right;\">\n",
       "      <th></th>\n",
       "      <th>CustomerID</th>\n",
       "      <th>CustomerName</th>\n",
       "      <th>Region</th>\n",
       "      <th>SignupDate</th>\n",
       "      <th>Books_TotalValue</th>\n",
       "      <th>Electronics_TotalValue</th>\n",
       "      <th>Home Decor_TotalValue</th>\n",
       "      <th>Clothing_TotalValue</th>\n",
       "      <th>Books_Quantity</th>\n",
       "      <th>Electronics_Quantity</th>\n",
       "      <th>Home Decor_Quantity</th>\n",
       "      <th>Clothing_Quantity</th>\n",
       "    </tr>\n",
       "  </thead>\n",
       "  <tbody>\n",
       "    <tr>\n",
       "      <th>0</th>\n",
       "      <td>C0001</td>\n",
       "      <td>Lawrence Carroll</td>\n",
       "      <td>South America</td>\n",
       "      <td>2022-07-10</td>\n",
       "      <td>114.60</td>\n",
       "      <td>2827.30</td>\n",
       "      <td>412.62</td>\n",
       "      <td>0.00</td>\n",
       "      <td>2.0</td>\n",
       "      <td>7.0</td>\n",
       "      <td>3.0</td>\n",
       "      <td>0.0</td>\n",
       "    </tr>\n",
       "    <tr>\n",
       "      <th>1</th>\n",
       "      <td>C0002</td>\n",
       "      <td>Elizabeth Lutz</td>\n",
       "      <td>Asia</td>\n",
       "      <td>2022-02-13</td>\n",
       "      <td>0.00</td>\n",
       "      <td>0.00</td>\n",
       "      <td>837.28</td>\n",
       "      <td>1025.46</td>\n",
       "      <td>0.0</td>\n",
       "      <td>0.0</td>\n",
       "      <td>6.0</td>\n",
       "      <td>4.0</td>\n",
       "    </tr>\n",
       "    <tr>\n",
       "      <th>2</th>\n",
       "      <td>C0003</td>\n",
       "      <td>Michael Rivera</td>\n",
       "      <td>South America</td>\n",
       "      <td>2024-03-07</td>\n",
       "      <td>0.00</td>\n",
       "      <td>1385.20</td>\n",
       "      <td>1217.82</td>\n",
       "      <td>122.36</td>\n",
       "      <td>0.0</td>\n",
       "      <td>4.0</td>\n",
       "      <td>6.0</td>\n",
       "      <td>4.0</td>\n",
       "    </tr>\n",
       "    <tr>\n",
       "      <th>3</th>\n",
       "      <td>C0004</td>\n",
       "      <td>Kathleen Rodriguez</td>\n",
       "      <td>South America</td>\n",
       "      <td>2022-10-09</td>\n",
       "      <td>1888.48</td>\n",
       "      <td>1355.74</td>\n",
       "      <td>2110.66</td>\n",
       "      <td>0.00</td>\n",
       "      <td>8.0</td>\n",
       "      <td>6.0</td>\n",
       "      <td>9.0</td>\n",
       "      <td>0.0</td>\n",
       "    </tr>\n",
       "  </tbody>\n",
       "</table>\n",
       "</div>"
      ],
      "text/plain": [
       "  CustomerID        CustomerName         Region  SignupDate  Books_TotalValue  \\\n",
       "0      C0001    Lawrence Carroll  South America  2022-07-10            114.60   \n",
       "1      C0002      Elizabeth Lutz           Asia  2022-02-13              0.00   \n",
       "2      C0003      Michael Rivera  South America  2024-03-07              0.00   \n",
       "3      C0004  Kathleen Rodriguez  South America  2022-10-09           1888.48   \n",
       "\n",
       "   Electronics_TotalValue  Home Decor_TotalValue  Clothing_TotalValue  \\\n",
       "0                 2827.30                 412.62                 0.00   \n",
       "1                    0.00                 837.28              1025.46   \n",
       "2                 1385.20                1217.82               122.36   \n",
       "3                 1355.74                2110.66                 0.00   \n",
       "\n",
       "   Books_Quantity  Electronics_Quantity  Home Decor_Quantity  \\\n",
       "0             2.0                   7.0                  3.0   \n",
       "1             0.0                   0.0                  6.0   \n",
       "2             0.0                   4.0                  6.0   \n",
       "3             8.0                   6.0                  9.0   \n",
       "\n",
       "   Clothing_Quantity  \n",
       "0                0.0  \n",
       "1                4.0  \n",
       "2                4.0  \n",
       "3                0.0  "
      ]
     },
     "execution_count": 40,
     "metadata": {},
     "output_type": "execute_result"
    }
   ],
   "source": [
    "for cat in products.Category.unique():\n",
    "    df = merged_data[merged_data.Category==cat].groupby(['CustomerID'])['Quantity'].sum().reset_index()\n",
    "    df = df.rename(columns={'Quantity': f'{cat}_Quantity'})\n",
    "    customer_new = pd.merge(customer_new, df, 'left', on='CustomerID')\n",
    "customer_new = customer_new.fillna(0)\n",
    "customer_new.head(4)"
   ]
  },
  {
   "cell_type": "code",
   "execution_count": 51,
   "id": "636c80f2-29e9-408e-8438-6cd8589ed7df",
   "metadata": {},
   "outputs": [
    {
     "data": {
      "text/plain": [
       "Index(['CustomerID', 'Region', 'Books_TotalValue', 'Electronics_TotalValue',\n",
       "       'Home Decor_TotalValue', 'Clothing_TotalValue', 'Books_Quantity',\n",
       "       'Electronics_Quantity', 'Home Decor_Quantity', 'Clothing_Quantity'],\n",
       "      dtype='object')"
      ]
     },
     "execution_count": 51,
     "metadata": {},
     "output_type": "execute_result"
    }
   ],
   "source": [
    "customer_new.drop(columns=['CustomerName', 'SignupDate'], inplace=True)\n",
    "customer_new.columns"
   ]
  },
  {
   "cell_type": "code",
   "execution_count": 59,
   "id": "1cbf1ec5-b138-4573-938e-ca0bffac3bb6",
   "metadata": {},
   "outputs": [
    {
     "data": {
      "text/html": [
       "<div>\n",
       "<style scoped>\n",
       "    .dataframe tbody tr th:only-of-type {\n",
       "        vertical-align: middle;\n",
       "    }\n",
       "\n",
       "    .dataframe tbody tr th {\n",
       "        vertical-align: top;\n",
       "    }\n",
       "\n",
       "    .dataframe thead th {\n",
       "        text-align: right;\n",
       "    }\n",
       "</style>\n",
       "<table border=\"1\" class=\"dataframe\">\n",
       "  <thead>\n",
       "    <tr style=\"text-align: right;\">\n",
       "      <th></th>\n",
       "      <th>CustomerID</th>\n",
       "      <th>Books_TotalValue</th>\n",
       "      <th>Electronics_TotalValue</th>\n",
       "      <th>Home Decor_TotalValue</th>\n",
       "      <th>Clothing_TotalValue</th>\n",
       "      <th>Books_Quantity</th>\n",
       "      <th>Electronics_Quantity</th>\n",
       "      <th>Home Decor_Quantity</th>\n",
       "      <th>Clothing_Quantity</th>\n",
       "      <th>Region_Asia</th>\n",
       "      <th>Region_Europe</th>\n",
       "      <th>Region_North America</th>\n",
       "      <th>Region_South America</th>\n",
       "    </tr>\n",
       "  </thead>\n",
       "  <tbody>\n",
       "    <tr>\n",
       "      <th>0</th>\n",
       "      <td>C0001</td>\n",
       "      <td>114.60</td>\n",
       "      <td>2827.30</td>\n",
       "      <td>412.62</td>\n",
       "      <td>0.00</td>\n",
       "      <td>2.0</td>\n",
       "      <td>7.0</td>\n",
       "      <td>3.0</td>\n",
       "      <td>0.0</td>\n",
       "      <td>0</td>\n",
       "      <td>0</td>\n",
       "      <td>0</td>\n",
       "      <td>1</td>\n",
       "    </tr>\n",
       "    <tr>\n",
       "      <th>1</th>\n",
       "      <td>C0002</td>\n",
       "      <td>0.00</td>\n",
       "      <td>0.00</td>\n",
       "      <td>837.28</td>\n",
       "      <td>1025.46</td>\n",
       "      <td>0.0</td>\n",
       "      <td>0.0</td>\n",
       "      <td>6.0</td>\n",
       "      <td>4.0</td>\n",
       "      <td>1</td>\n",
       "      <td>0</td>\n",
       "      <td>0</td>\n",
       "      <td>0</td>\n",
       "    </tr>\n",
       "    <tr>\n",
       "      <th>2</th>\n",
       "      <td>C0003</td>\n",
       "      <td>0.00</td>\n",
       "      <td>1385.20</td>\n",
       "      <td>1217.82</td>\n",
       "      <td>122.36</td>\n",
       "      <td>0.0</td>\n",
       "      <td>4.0</td>\n",
       "      <td>6.0</td>\n",
       "      <td>4.0</td>\n",
       "      <td>0</td>\n",
       "      <td>0</td>\n",
       "      <td>0</td>\n",
       "      <td>1</td>\n",
       "    </tr>\n",
       "    <tr>\n",
       "      <th>3</th>\n",
       "      <td>C0004</td>\n",
       "      <td>1888.48</td>\n",
       "      <td>1355.74</td>\n",
       "      <td>2110.66</td>\n",
       "      <td>0.00</td>\n",
       "      <td>8.0</td>\n",
       "      <td>6.0</td>\n",
       "      <td>9.0</td>\n",
       "      <td>0.0</td>\n",
       "      <td>0</td>\n",
       "      <td>0</td>\n",
       "      <td>0</td>\n",
       "      <td>1</td>\n",
       "    </tr>\n",
       "  </tbody>\n",
       "</table>\n",
       "</div>"
      ],
      "text/plain": [
       "  CustomerID  Books_TotalValue  Electronics_TotalValue  Home Decor_TotalValue  \\\n",
       "0      C0001            114.60                 2827.30                 412.62   \n",
       "1      C0002              0.00                    0.00                 837.28   \n",
       "2      C0003              0.00                 1385.20                1217.82   \n",
       "3      C0004           1888.48                 1355.74                2110.66   \n",
       "\n",
       "   Clothing_TotalValue  Books_Quantity  Electronics_Quantity  \\\n",
       "0                 0.00             2.0                   7.0   \n",
       "1              1025.46             0.0                   0.0   \n",
       "2               122.36             0.0                   4.0   \n",
       "3                 0.00             8.0                   6.0   \n",
       "\n",
       "   Home Decor_Quantity  Clothing_Quantity  Region_Asia  Region_Europe  \\\n",
       "0                  3.0                0.0            0              0   \n",
       "1                  6.0                4.0            1              0   \n",
       "2                  6.0                4.0            0              0   \n",
       "3                  9.0                0.0            0              0   \n",
       "\n",
       "   Region_North America  Region_South America  \n",
       "0                     0                     1  \n",
       "1                     0                     0  \n",
       "2                     0                     1  \n",
       "3                     0                     1  "
      ]
     },
     "execution_count": 59,
     "metadata": {},
     "output_type": "execute_result"
    }
   ],
   "source": [
    "# One Hot Encoding\n",
    "customer_new = pd.get_dummies(customer_new, columns=['Region'], dtype='int')\n",
    "customer_new.head(4)"
   ]
  },
  {
   "cell_type": "code",
   "execution_count": 67,
   "id": "bc462e51-730f-4c8d-b058-0b80feba2377",
   "metadata": {},
   "outputs": [
    {
     "name": "stdout",
     "output_type": "stream",
     "text": [
      "Feature matrix has shape - (200, 12)\n"
     ]
    }
   ],
   "source": [
    "customer_ids = customer_new['CustomerID'].values\n",
    "customer_features = customer_new.drop(columns=['CustomerID'], inplace=False).values\n",
    "print(f\"Feature matrix has shape - {customer_features.shape}\")"
   ]
  },
  {
   "cell_type": "code",
   "execution_count": 71,
   "id": "cc05825b-8bed-4951-9e9e-214cc32d5cc8",
   "metadata": {},
   "outputs": [],
   "source": [
    "# standardisation\n",
    "customer_features = StandardScaler().fit_transform(customer_features)"
   ]
  },
  {
   "cell_type": "markdown",
   "id": "dd9a27fb-2cd1-4dae-af4b-c3e2fb97ab2f",
   "metadata": {},
   "source": [
    "## CoSine similarity based retrieval"
   ]
  },
  {
   "cell_type": "code",
   "execution_count": 91,
   "id": "bdc28fb8-2980-4aaf-ad03-1a752b14cadb",
   "metadata": {},
   "outputs": [],
   "source": [
    "# Normalised customer feature\n",
    "norms = np.linalg.norm(customer_features, axis=1).reshape((-1,1))\n",
    "normalised_features = customer_features/normalised_feature\n",
    "similarity_matrix = normalised_features@normalised_features.T"
   ]
  },
  {
   "cell_type": "code",
   "execution_count": 127,
   "id": "bff527f7-b244-447b-92fd-25b0dae682d2",
   "metadata": {},
   "outputs": [],
   "source": [
    "top_3_matches = np.argsort(similarity_matrix, axis=1)[:,-2:-5:-1]"
   ]
  },
  {
   "cell_type": "code",
   "execution_count": 155,
   "id": "42f32ed6-a7de-4200-a53a-369ac3880da2",
   "metadata": {
    "scrolled": true
   },
   "outputs": [
    {
     "data": {
      "text/plain": [
       "{'C0001': [('C0120', 0.9266967728447603),\n",
       "  ('C0184', 0.890560235547983),\n",
       "  ('C0181', 0.8699657227756472)],\n",
       " 'C0002': [('C0159', 0.9843876963185766),\n",
       "  ('C0178', 0.9439721552035605),\n",
       "  ('C0134', 0.8885396667929267)],\n",
       " 'C0003': [('C0031', 0.9015732784600285),\n",
       "  ('C0195', 0.8432421192137682),\n",
       "  ('C0152', 0.8326792257386539)],\n",
       " 'C0004': [('C0148', 0.8555820718946241),\n",
       "  ('C0113', 0.8513036099683192),\n",
       "  ('C0012', 0.8375567950393362)],\n",
       " 'C0005': [('C0007', 0.9803202745178001),\n",
       "  ('C0140', 0.9196436453350602),\n",
       "  ('C0146', 0.8342877259478129)],\n",
       " 'C0006': [('C0108', 0.8950571311017018),\n",
       "  ('C0169', 0.8282567083827392),\n",
       "  ('C0187', 0.7424143772571247)],\n",
       " 'C0007': [('C0005', 0.9803202745178001),\n",
       "  ('C0140', 0.8477782114789901),\n",
       "  ('C0146', 0.8075833540171649)],\n",
       " 'C0008': [('C0109', 0.7845598957715225),\n",
       "  ('C0059', 0.7301303414640772),\n",
       "  ('C0079', 0.7283303847831789)],\n",
       " 'C0009': [('C0198', 0.978137225566066),\n",
       "  ('C0060', 0.9311144855033424),\n",
       "  ('C0014', 0.9205202859033832)],\n",
       " 'C0010': [('C0111', 0.9135547176942627),\n",
       "  ('C0062', 0.8417770210797977),\n",
       "  ('C0044', 0.8154289170732173)],\n",
       " 'C0011': [('C0153', 0.832745089968107),\n",
       "  ('C0107', 0.8098064989457029),\n",
       "  ('C0099', 0.7808155205087889)],\n",
       " 'C0012': [('C0148', 0.9710855075512697),\n",
       "  ('C0113', 0.9033810011494512),\n",
       "  ('C0104', 0.8714770845127955)],\n",
       " 'C0013': [('C0099', 0.9304686320725626),\n",
       "  ('C0107', 0.8475541105536342),\n",
       "  ('C0188', 0.8470453864720223)],\n",
       " 'C0014': [('C0060', 0.9959563886872431),\n",
       "  ('C0119', 0.9474030524298489),\n",
       "  ('C0009', 0.9205202859033832)],\n",
       " 'C0015': [('C0058', 0.890044231255845),\n",
       "  ('C0036', 0.8828866978495926),\n",
       "  ('C0033', 0.8826607710135911)],\n",
       " 'C0016': [('C0117', 0.9695595484519174),\n",
       "  ('C0176', 0.7982496800666061),\n",
       "  ('C0029', 0.7662903284662098)],\n",
       " 'C0017': [('C0075', 0.8889851359946189),\n",
       "  ('C0064', 0.8766726965393717),\n",
       "  ('C0057', 0.8080716190071499)],\n",
       " 'C0018': [('C0068', 0.9478259437921635),\n",
       "  ('C0122', 0.9296668518339168),\n",
       "  ('C0125', 0.8614365388405024)],\n",
       " 'C0019': [('C0070', 0.9523494109293777),\n",
       "  ('C0063', 0.8523639730947633),\n",
       "  ('C0064', 0.8273828939692776)],\n",
       " 'C0020': [('C0058', 0.8991043215952689),\n",
       "  ('C0033', 0.8920996938590453),\n",
       "  ('C0094', 0.8888059006561121)]}"
      ]
     },
     "execution_count": 155,
     "metadata": {},
     "output_type": "execute_result"
    }
   ],
   "source": [
    "output_dict = {}\n",
    "for i in range(20):\n",
    "    top_3 = top_3_matches[i]\n",
    "    match_list = []\n",
    "    for match in top_3:\n",
    "        match_list.append((customer_new['CustomerID'][match], similarity_matrix[i, match]))\n",
    "    customer = customer_new['CustomerID'][i]\n",
    "    output_dict[customer] = match_list\n",
    "output_dict\n",
    "    \n",
    "    "
   ]
  },
  {
   "cell_type": "code",
   "execution_count": 157,
   "id": "c4b89c13-3488-4bd7-91a2-68a95c4429a1",
   "metadata": {},
   "outputs": [],
   "source": [
    "output = pd.DataFrame.from_dict(output_dict, orient='index')\n",
    "output.to_csv('Lookalike.csv')"
   ]
  },
  {
   "cell_type": "code",
   "execution_count": null,
   "id": "aa8a0230-d561-42db-bdf5-9d6344827ae0",
   "metadata": {},
   "outputs": [],
   "source": []
  },
  {
   "cell_type": "code",
   "execution_count": null,
   "id": "ac9ed172-3034-457f-9566-e62173d249f8",
   "metadata": {},
   "outputs": [],
   "source": []
  }
 ],
 "metadata": {
  "kernelspec": {
   "display_name": "Python [conda env:base] *",
   "language": "python",
   "name": "conda-base-py"
  },
  "language_info": {
   "codemirror_mode": {
    "name": "ipython",
    "version": 3
   },
   "file_extension": ".py",
   "mimetype": "text/x-python",
   "name": "python",
   "nbconvert_exporter": "python",
   "pygments_lexer": "ipython3",
   "version": "3.12.7"
  }
 },
 "nbformat": 4,
 "nbformat_minor": 5
}
